{
  "nbformat": 4,
  "nbformat_minor": 0,
  "metadata": {
    "colab": {
      "provenance": [],
      "authorship_tag": "ABX9TyNFVW080Y/PG9mu9x+jxeqN",
      "include_colab_link": true
    },
    "kernelspec": {
      "name": "python3",
      "display_name": "Python 3"
    },
    "language_info": {
      "name": "python"
    }
  },
  "cells": [
    {
      "cell_type": "markdown",
      "metadata": {
        "id": "view-in-github",
        "colab_type": "text"
      },
      "source": [
        "<a href=\"https://colab.research.google.com/github/txc-000/data-mining/blob/main/preprocessing.ipynb\" target=\"_parent\"><img src=\"https://colab.research.google.com/assets/colab-badge.svg\" alt=\"Open In Colab\"/></a>"
      ]
    },
    {
      "cell_type": "markdown",
      "source": [
        "### **NAMA   : FAIDZUL UMAM**\n",
        "### **NIM    : A11.2023.14913**\n",
        "### **MATKUL : PENAMBANGAN DATA**\n",
        "### **KLMPK  : A11.4501**"
      ],
      "metadata": {
        "id": "n1FOr03UDBE0"
      }
    },
    {
      "cell_type": "markdown",
      "source": [
        "# **1. Import Library**\n"
      ],
      "metadata": {
        "id": "Jkn7AQ4DDEn4"
      }
    },
    {
      "cell_type": "code",
      "execution_count": 1,
      "metadata": {
        "id": "pqAUuMJmC_aw"
      },
      "outputs": [],
      "source": [
        "import pandas as pd\n",
        "import numpy as np\n",
        "from sklearn.impute import SimpleImputer\n",
        "from sklearn.preprocessing import OneHotEncoder, StandardScaler\n",
        "from sklearn.compose import ColumnTransformer\n",
        "from sklearn.model_selection import train_test_split"
      ]
    },
    {
      "cell_type": "code",
      "source": [
        "from google.colab import files\n",
        "uploaded = files.upload()"
      ],
      "metadata": {
        "colab": {
          "base_uri": "https://localhost:8080/",
          "height": 74
        },
        "id": "mY1WtyYODH-f",
        "outputId": "48105712-13cd-4ce9-92d2-9d7722b4fc6e"
      },
      "execution_count": 2,
      "outputs": [
        {
          "output_type": "display_data",
          "data": {
            "text/plain": [
              "<IPython.core.display.HTML object>"
            ],
            "text/html": [
              "\n",
              "     <input type=\"file\" id=\"files-f8cce50c-5e83-419d-ae1f-a66c142ccfab\" name=\"files[]\" multiple disabled\n",
              "        style=\"border:none\" />\n",
              "     <output id=\"result-f8cce50c-5e83-419d-ae1f-a66c142ccfab\">\n",
              "      Upload widget is only available when the cell has been executed in the\n",
              "      current browser session. Please rerun this cell to enable.\n",
              "      </output>\n",
              "      <script>// Copyright 2017 Google LLC\n",
              "//\n",
              "// Licensed under the Apache License, Version 2.0 (the \"License\");\n",
              "// you may not use this file except in compliance with the License.\n",
              "// You may obtain a copy of the License at\n",
              "//\n",
              "//      http://www.apache.org/licenses/LICENSE-2.0\n",
              "//\n",
              "// Unless required by applicable law or agreed to in writing, software\n",
              "// distributed under the License is distributed on an \"AS IS\" BASIS,\n",
              "// WITHOUT WARRANTIES OR CONDITIONS OF ANY KIND, either express or implied.\n",
              "// See the License for the specific language governing permissions and\n",
              "// limitations under the License.\n",
              "\n",
              "/**\n",
              " * @fileoverview Helpers for google.colab Python module.\n",
              " */\n",
              "(function(scope) {\n",
              "function span(text, styleAttributes = {}) {\n",
              "  const element = document.createElement('span');\n",
              "  element.textContent = text;\n",
              "  for (const key of Object.keys(styleAttributes)) {\n",
              "    element.style[key] = styleAttributes[key];\n",
              "  }\n",
              "  return element;\n",
              "}\n",
              "\n",
              "// Max number of bytes which will be uploaded at a time.\n",
              "const MAX_PAYLOAD_SIZE = 100 * 1024;\n",
              "\n",
              "function _uploadFiles(inputId, outputId) {\n",
              "  const steps = uploadFilesStep(inputId, outputId);\n",
              "  const outputElement = document.getElementById(outputId);\n",
              "  // Cache steps on the outputElement to make it available for the next call\n",
              "  // to uploadFilesContinue from Python.\n",
              "  outputElement.steps = steps;\n",
              "\n",
              "  return _uploadFilesContinue(outputId);\n",
              "}\n",
              "\n",
              "// This is roughly an async generator (not supported in the browser yet),\n",
              "// where there are multiple asynchronous steps and the Python side is going\n",
              "// to poll for completion of each step.\n",
              "// This uses a Promise to block the python side on completion of each step,\n",
              "// then passes the result of the previous step as the input to the next step.\n",
              "function _uploadFilesContinue(outputId) {\n",
              "  const outputElement = document.getElementById(outputId);\n",
              "  const steps = outputElement.steps;\n",
              "\n",
              "  const next = steps.next(outputElement.lastPromiseValue);\n",
              "  return Promise.resolve(next.value.promise).then((value) => {\n",
              "    // Cache the last promise value to make it available to the next\n",
              "    // step of the generator.\n",
              "    outputElement.lastPromiseValue = value;\n",
              "    return next.value.response;\n",
              "  });\n",
              "}\n",
              "\n",
              "/**\n",
              " * Generator function which is called between each async step of the upload\n",
              " * process.\n",
              " * @param {string} inputId Element ID of the input file picker element.\n",
              " * @param {string} outputId Element ID of the output display.\n",
              " * @return {!Iterable<!Object>} Iterable of next steps.\n",
              " */\n",
              "function* uploadFilesStep(inputId, outputId) {\n",
              "  const inputElement = document.getElementById(inputId);\n",
              "  inputElement.disabled = false;\n",
              "\n",
              "  const outputElement = document.getElementById(outputId);\n",
              "  outputElement.innerHTML = '';\n",
              "\n",
              "  const pickedPromise = new Promise((resolve) => {\n",
              "    inputElement.addEventListener('change', (e) => {\n",
              "      resolve(e.target.files);\n",
              "    });\n",
              "  });\n",
              "\n",
              "  const cancel = document.createElement('button');\n",
              "  inputElement.parentElement.appendChild(cancel);\n",
              "  cancel.textContent = 'Cancel upload';\n",
              "  const cancelPromise = new Promise((resolve) => {\n",
              "    cancel.onclick = () => {\n",
              "      resolve(null);\n",
              "    };\n",
              "  });\n",
              "\n",
              "  // Wait for the user to pick the files.\n",
              "  const files = yield {\n",
              "    promise: Promise.race([pickedPromise, cancelPromise]),\n",
              "    response: {\n",
              "      action: 'starting',\n",
              "    }\n",
              "  };\n",
              "\n",
              "  cancel.remove();\n",
              "\n",
              "  // Disable the input element since further picks are not allowed.\n",
              "  inputElement.disabled = true;\n",
              "\n",
              "  if (!files) {\n",
              "    return {\n",
              "      response: {\n",
              "        action: 'complete',\n",
              "      }\n",
              "    };\n",
              "  }\n",
              "\n",
              "  for (const file of files) {\n",
              "    const li = document.createElement('li');\n",
              "    li.append(span(file.name, {fontWeight: 'bold'}));\n",
              "    li.append(span(\n",
              "        `(${file.type || 'n/a'}) - ${file.size} bytes, ` +\n",
              "        `last modified: ${\n",
              "            file.lastModifiedDate ? file.lastModifiedDate.toLocaleDateString() :\n",
              "                                    'n/a'} - `));\n",
              "    const percent = span('0% done');\n",
              "    li.appendChild(percent);\n",
              "\n",
              "    outputElement.appendChild(li);\n",
              "\n",
              "    const fileDataPromise = new Promise((resolve) => {\n",
              "      const reader = new FileReader();\n",
              "      reader.onload = (e) => {\n",
              "        resolve(e.target.result);\n",
              "      };\n",
              "      reader.readAsArrayBuffer(file);\n",
              "    });\n",
              "    // Wait for the data to be ready.\n",
              "    let fileData = yield {\n",
              "      promise: fileDataPromise,\n",
              "      response: {\n",
              "        action: 'continue',\n",
              "      }\n",
              "    };\n",
              "\n",
              "    // Use a chunked sending to avoid message size limits. See b/62115660.\n",
              "    let position = 0;\n",
              "    do {\n",
              "      const length = Math.min(fileData.byteLength - position, MAX_PAYLOAD_SIZE);\n",
              "      const chunk = new Uint8Array(fileData, position, length);\n",
              "      position += length;\n",
              "\n",
              "      const base64 = btoa(String.fromCharCode.apply(null, chunk));\n",
              "      yield {\n",
              "        response: {\n",
              "          action: 'append',\n",
              "          file: file.name,\n",
              "          data: base64,\n",
              "        },\n",
              "      };\n",
              "\n",
              "      let percentDone = fileData.byteLength === 0 ?\n",
              "          100 :\n",
              "          Math.round((position / fileData.byteLength) * 100);\n",
              "      percent.textContent = `${percentDone}% done`;\n",
              "\n",
              "    } while (position < fileData.byteLength);\n",
              "  }\n",
              "\n",
              "  // All done.\n",
              "  yield {\n",
              "    response: {\n",
              "      action: 'complete',\n",
              "    }\n",
              "  };\n",
              "}\n",
              "\n",
              "scope.google = scope.google || {};\n",
              "scope.google.colab = scope.google.colab || {};\n",
              "scope.google.colab._files = {\n",
              "  _uploadFiles,\n",
              "  _uploadFilesContinue,\n",
              "};\n",
              "})(self);\n",
              "</script> "
            ]
          },
          "metadata": {}
        },
        {
          "output_type": "stream",
          "name": "stdout",
          "text": [
            "Saving 13-09-2023.xlsx to 13-09-2023.xlsx\n"
          ]
        }
      ]
    },
    {
      "cell_type": "markdown",
      "source": [
        "# **2. Baca Dataset**\n"
      ],
      "metadata": {
        "id": "Z06TvuY-DTMu"
      }
    },
    {
      "cell_type": "code",
      "source": [
        "df = pd.read_excel(\"13-09-2023.xlsx\")"
      ],
      "metadata": {
        "id": "uJIP9DW1DS3X"
      },
      "execution_count": 3,
      "outputs": []
    },
    {
      "cell_type": "code",
      "source": [
        "print(\"===== Data Awal =====\")\n",
        "print(df.head())\n",
        "print(\"\\nJumlah baris dan kolom:\", df.shape)\n"
      ],
      "metadata": {
        "colab": {
          "base_uri": "https://localhost:8080/"
        },
        "id": "6c3PCguVDfst",
        "outputId": "4761138b-7a3d-4c6e-8e82-937a4befe49c"
      },
      "execution_count": 4,
      "outputs": [
        {
          "output_type": "stream",
          "name": "stdout",
          "text": [
            "===== Data Awal =====\n",
            "   Kode Daerah BPS           Kab/Kota      Komoditas      13/09/23\n",
            "0             3301       Kab. Cilacap  Kedelai Lokal  18000.000000\n",
            "1             3302      Kab. Banyumas  Kedelai Lokal  20000.000000\n",
            "2             3303   Kab. Purbalingga  Kedelai Lokal  14500.000000\n",
            "3             3304  Kab. Banjarnegara  Kedelai Lokal  12666.666667\n",
            "4             3305       Kab. Kebumen  Kedelai Lokal  18000.000000\n",
            "\n",
            "Jumlah baris dan kolom: (19, 4)\n"
          ]
        }
      ]
    },
    {
      "cell_type": "markdown",
      "source": [
        "# **3. Cleaning**\n"
      ],
      "metadata": {
        "id": "dZe924N9Dm0M"
      }
    },
    {
      "cell_type": "code",
      "source": [
        "df.columns = ['kode_daerah', 'kab_kota', 'komoditas', 'harga']"
      ],
      "metadata": {
        "id": "t0QiNDFKDvFn"
      },
      "execution_count": 5,
      "outputs": []
    },
    {
      "cell_type": "code",
      "source": [
        "imputer = SimpleImputer(strategy='mean')\n",
        "df[['harga']] = imputer.fit_transform(df[['harga']])\n",
        "df.drop_duplicates(inplace=True)\n"
      ],
      "metadata": {
        "id": "ohS_LiXZD0nR"
      },
      "execution_count": 6,
      "outputs": []
    },
    {
      "cell_type": "code",
      "source": [
        "Q1, Q3 = df['harga'].quantile([0.25, 0.75])\n",
        "IQR = Q3 - Q1\n",
        "batas_bawah, batas_atas = Q1 - 1.5*IQR, Q3 + 1.5*IQR\n",
        "df = df[(df['harga'] >= batas_bawah) & (df['harga'] <= batas_atas)]"
      ],
      "metadata": {
        "id": "WwVvBeC5D3he"
      },
      "execution_count": 7,
      "outputs": []
    },
    {
      "cell_type": "markdown",
      "source": [
        "# **4. Transformasi**\n"
      ],
      "metadata": {
        "id": "EyMx7EfJD4nO"
      }
    },
    {
      "cell_type": "code",
      "source": [
        "from sklearn.preprocessing import OneHotEncoder\n"
      ],
      "metadata": {
        "id": "wGaHKN2ZErXd"
      },
      "execution_count": 15,
      "outputs": []
    },
    {
      "cell_type": "code",
      "source": [
        "encoder = OneHotEncoder(handle_unknown='ignore', sparse_output=False)\n",
        "encoded = encoder.fit_transform(df[['kab_kota', 'komoditas']])\n",
        "encoded_cols = encoder.get_feature_names_out(['kab_kota', 'komoditas'])\n"
      ],
      "metadata": {
        "id": "YHMmDw7PErTw"
      },
      "execution_count": 16,
      "outputs": []
    },
    {
      "cell_type": "code",
      "source": [
        "df_encoded = pd.DataFrame(encoded, columns=encoded_cols)\n",
        "df = pd.concat([df_encoded, df[['kode_daerah', 'harga']].reset_index(drop=True)], axis=1)"
      ],
      "metadata": {
        "id": "i7JD9s_HEvk_"
      },
      "execution_count": 17,
      "outputs": []
    },
    {
      "cell_type": "code",
      "source": [
        "print(\"\\nData setelah encoding:\")\n",
        "print(df.head())"
      ],
      "metadata": {
        "colab": {
          "base_uri": "https://localhost:8080/"
        },
        "id": "SEArnP46EvcH",
        "outputId": "bbf3bdfe-454a-488b-d68e-ea88b2e6e487"
      },
      "execution_count": 18,
      "outputs": [
        {
          "output_type": "stream",
          "name": "stdout",
          "text": [
            "\n",
            "Data setelah encoding:\n",
            "   kab_kota_Kab. Banjarnegara  kab_kota_Kab. Blora  kab_kota_Kab. Brebes  \\\n",
            "0                         0.0                  0.0                   0.0   \n",
            "1                         0.0                  0.0                   0.0   \n",
            "2                         1.0                  0.0                   0.0   \n",
            "3                         0.0                  0.0                   0.0   \n",
            "4                         0.0                  0.0                   0.0   \n",
            "\n",
            "   kab_kota_Kab. Cilacap  kab_kota_Kab. Demak  kab_kota_Kab. Grobogan  \\\n",
            "0                    1.0                  0.0                     0.0   \n",
            "1                    0.0                  0.0                     0.0   \n",
            "2                    0.0                  0.0                     0.0   \n",
            "3                    0.0                  0.0                     0.0   \n",
            "4                    0.0                  0.0                     0.0   \n",
            "\n",
            "   kab_kota_Kab. Jepara  kab_kota_Kab. Kebumen  kab_kota_Kab. Klaten  \\\n",
            "0                   0.0                    0.0                   0.0   \n",
            "1                   0.0                    0.0                   0.0   \n",
            "2                   0.0                    0.0                   0.0   \n",
            "3                   0.0                    1.0                   0.0   \n",
            "4                   0.0                    0.0                   1.0   \n",
            "\n",
            "   kab_kota_Kab. Kudus  ...  kab_kota_Kab. Rembang  kab_kota_Kab. Semarang  \\\n",
            "0                  0.0  ...                    0.0                     0.0   \n",
            "1                  0.0  ...                    0.0                     0.0   \n",
            "2                  0.0  ...                    0.0                     0.0   \n",
            "3                  0.0  ...                    0.0                     0.0   \n",
            "4                  0.0  ...                    0.0                     0.0   \n",
            "\n",
            "   kab_kota_Kab. Temanggung  kab_kota_Kab. Wonogiri  kab_kota_Kota Semarang  \\\n",
            "0                       0.0                     0.0                     0.0   \n",
            "1                       0.0                     0.0                     0.0   \n",
            "2                       0.0                     0.0                     0.0   \n",
            "3                       0.0                     0.0                     0.0   \n",
            "4                       0.0                     0.0                     0.0   \n",
            "\n",
            "   kab_kota_Kota Surakarta  kab_kota_Kota Tegal  komoditas_Kedelai Lokal  \\\n",
            "0                      0.0                  0.0                      1.0   \n",
            "1                      0.0                  0.0                      1.0   \n",
            "2                      0.0                  0.0                      1.0   \n",
            "3                      0.0                  0.0                      1.0   \n",
            "4                      0.0                  0.0                      1.0   \n",
            "\n",
            "   kode_daerah         harga  \n",
            "0         3301  18000.000000  \n",
            "1         3303  14500.000000  \n",
            "2         3304  12666.666667  \n",
            "3         3305  18000.000000  \n",
            "4         3310  13500.000000  \n",
            "\n",
            "[5 rows x 21 columns]\n"
          ]
        }
      ]
    },
    {
      "cell_type": "markdown",
      "source": [
        "# **5. Reduksi**\n"
      ],
      "metadata": {
        "id": "8pICOs06E29H"
      }
    },
    {
      "cell_type": "code",
      "source": [
        "df = df[[col for col in df.columns if 'kab_kota' in col or 'komoditas' in col] + ['harga']]\n"
      ],
      "metadata": {
        "id": "DjGDnYBEE_Ms"
      },
      "execution_count": 19,
      "outputs": []
    },
    {
      "cell_type": "markdown",
      "source": [
        "# **6. Diskritisasi**\n"
      ],
      "metadata": {
        "id": "MV_mNgP4FDAe"
      }
    },
    {
      "cell_type": "code",
      "source": [
        "df['kategori_harga'] = pd.qcut(df['harga'], q=3, labels=['Rendah', 'Sedang', 'Tinggi'])\n"
      ],
      "metadata": {
        "id": "yKSVsOC2FEHB"
      },
      "execution_count": 20,
      "outputs": []
    },
    {
      "cell_type": "markdown",
      "source": [
        "# **7. Scaling**\n"
      ],
      "metadata": {
        "id": "ZCXV8C2GFL-s"
      }
    },
    {
      "cell_type": "code",
      "source": [
        "scaler = StandardScaler()\n",
        "df[['harga']] = scaler.fit_transform(df[['harga']])"
      ],
      "metadata": {
        "id": "H8OIO1aYFQj6"
      },
      "execution_count": 21,
      "outputs": []
    },
    {
      "cell_type": "markdown",
      "source": [
        "# **8. Split**\n"
      ],
      "metadata": {
        "id": "okyLX_YsFTQU"
      }
    },
    {
      "cell_type": "code",
      "source": [
        "X = df.drop('kategori_harga', axis=1)\n",
        "y = df['kategori_harga']\n",
        "X_train, X_test, y_train, y_test = train_test_split(X, y, test_size=0.2, random_state=42)\n"
      ],
      "metadata": {
        "id": "HX0PHAjZFoj3"
      },
      "execution_count": 22,
      "outputs": []
    },
    {
      "cell_type": "markdown",
      "source": [
        "# **9. Simpan**\n"
      ],
      "metadata": {
        "id": "I-68ixRCFV18"
      }
    },
    {
      "cell_type": "code",
      "source": [
        "df.to_csv(\"data_kedelai_preprocessed.csv\", index=False)\n",
        "print(\"File hasil preprocessing disimpan sebagai data_kedelai_preprocessed.csv\")\n"
      ],
      "metadata": {
        "colab": {
          "base_uri": "https://localhost:8080/"
        },
        "id": "R7Am2kZNFrtL",
        "outputId": "eb6ccccb-0af5-4110-da41-134d09c766c0"
      },
      "execution_count": 23,
      "outputs": [
        {
          "output_type": "stream",
          "name": "stdout",
          "text": [
            "File hasil preprocessing disimpan sebagai data_kedelai_preprocessed.csv\n"
          ]
        }
      ]
    },
    {
      "cell_type": "markdown",
      "source": [
        "# **Hasil Akhir**\n"
      ],
      "metadata": {
        "id": "MXCI-vWGFj8Q"
      }
    },
    {
      "cell_type": "code",
      "source": [
        "print(\"\\n===== Data Hasil Preprocessing =====\")\n",
        "print(df.head())"
      ],
      "metadata": {
        "colab": {
          "base_uri": "https://localhost:8080/"
        },
        "id": "37AUDEGwFwH_",
        "outputId": "98e3446f-c841-4a67-b439-8035e751bd6c"
      },
      "execution_count": 24,
      "outputs": [
        {
          "output_type": "stream",
          "name": "stdout",
          "text": [
            "\n",
            "===== Data Hasil Preprocessing =====\n",
            "   kab_kota_Kab. Banjarnegara  kab_kota_Kab. Blora  kab_kota_Kab. Brebes  \\\n",
            "0                         0.0                  0.0                   0.0   \n",
            "1                         0.0                  0.0                   0.0   \n",
            "2                         1.0                  0.0                   0.0   \n",
            "3                         0.0                  0.0                   0.0   \n",
            "4                         0.0                  0.0                   0.0   \n",
            "\n",
            "   kab_kota_Kab. Cilacap  kab_kota_Kab. Demak  kab_kota_Kab. Grobogan  \\\n",
            "0                    1.0                  0.0                     0.0   \n",
            "1                    0.0                  0.0                     0.0   \n",
            "2                    0.0                  0.0                     0.0   \n",
            "3                    0.0                  0.0                     0.0   \n",
            "4                    0.0                  0.0                     0.0   \n",
            "\n",
            "   kab_kota_Kab. Jepara  kab_kota_Kab. Kebumen  kab_kota_Kab. Klaten  \\\n",
            "0                   0.0                    0.0                   0.0   \n",
            "1                   0.0                    0.0                   0.0   \n",
            "2                   0.0                    0.0                   0.0   \n",
            "3                   0.0                    1.0                   0.0   \n",
            "4                   0.0                    0.0                   1.0   \n",
            "\n",
            "   kab_kota_Kab. Kudus  ...  kab_kota_Kab. Rembang  kab_kota_Kab. Semarang  \\\n",
            "0                  0.0  ...                    0.0                     0.0   \n",
            "1                  0.0  ...                    0.0                     0.0   \n",
            "2                  0.0  ...                    0.0                     0.0   \n",
            "3                  0.0  ...                    0.0                     0.0   \n",
            "4                  0.0  ...                    0.0                     0.0   \n",
            "\n",
            "   kab_kota_Kab. Temanggung  kab_kota_Kab. Wonogiri  kab_kota_Kota Semarang  \\\n",
            "0                       0.0                     0.0                     0.0   \n",
            "1                       0.0                     0.0                     0.0   \n",
            "2                       0.0                     0.0                     0.0   \n",
            "3                       0.0                     0.0                     0.0   \n",
            "4                       0.0                     0.0                     0.0   \n",
            "\n",
            "   kab_kota_Kota Surakarta  kab_kota_Kota Tegal  komoditas_Kedelai Lokal  \\\n",
            "0                      0.0                  0.0                      1.0   \n",
            "1                      0.0                  0.0                      1.0   \n",
            "2                      0.0                  0.0                      1.0   \n",
            "3                      0.0                  0.0                      1.0   \n",
            "4                      0.0                  0.0                      1.0   \n",
            "\n",
            "      harga  kategori_harga  \n",
            "0  2.047358          Tinggi  \n",
            "1  0.439084          Sedang  \n",
            "2 -0.403345          Sedang  \n",
            "3  2.047358          Tinggi  \n",
            "4 -0.020423          Sedang  \n",
            "\n",
            "[5 rows x 21 columns]\n"
          ]
        }
      ]
    },
    {
      "cell_type": "code",
      "source": [
        "from google.colab import files\n",
        "files.download(\"data_kedelai_preprocessed.csv\")"
      ],
      "metadata": {
        "colab": {
          "base_uri": "https://localhost:8080/",
          "height": 17
        },
        "id": "tlxJQX-_FzvP",
        "outputId": "cf904d62-6ec0-4d70-dab2-e563b3898df9"
      },
      "execution_count": 25,
      "outputs": [
        {
          "output_type": "display_data",
          "data": {
            "text/plain": [
              "<IPython.core.display.Javascript object>"
            ],
            "application/javascript": [
              "\n",
              "    async function download(id, filename, size) {\n",
              "      if (!google.colab.kernel.accessAllowed) {\n",
              "        return;\n",
              "      }\n",
              "      const div = document.createElement('div');\n",
              "      const label = document.createElement('label');\n",
              "      label.textContent = `Downloading \"${filename}\": `;\n",
              "      div.appendChild(label);\n",
              "      const progress = document.createElement('progress');\n",
              "      progress.max = size;\n",
              "      div.appendChild(progress);\n",
              "      document.body.appendChild(div);\n",
              "\n",
              "      const buffers = [];\n",
              "      let downloaded = 0;\n",
              "\n",
              "      const channel = await google.colab.kernel.comms.open(id);\n",
              "      // Send a message to notify the kernel that we're ready.\n",
              "      channel.send({})\n",
              "\n",
              "      for await (const message of channel.messages) {\n",
              "        // Send a message to notify the kernel that we're ready.\n",
              "        channel.send({})\n",
              "        if (message.buffers) {\n",
              "          for (const buffer of message.buffers) {\n",
              "            buffers.push(buffer);\n",
              "            downloaded += buffer.byteLength;\n",
              "            progress.value = downloaded;\n",
              "          }\n",
              "        }\n",
              "      }\n",
              "      const blob = new Blob(buffers, {type: 'application/binary'});\n",
              "      const a = document.createElement('a');\n",
              "      a.href = window.URL.createObjectURL(blob);\n",
              "      a.download = filename;\n",
              "      div.appendChild(a);\n",
              "      a.click();\n",
              "      div.remove();\n",
              "    }\n",
              "  "
            ]
          },
          "metadata": {}
        },
        {
          "output_type": "display_data",
          "data": {
            "text/plain": [
              "<IPython.core.display.Javascript object>"
            ],
            "application/javascript": [
              "download(\"download_fca3fa8f-ad49-4e84-8240-a15c450c4cb4\", \"data_kedelai_preprocessed.csv\", 2294)"
            ]
          },
          "metadata": {}
        }
      ]
    }
  ]
}